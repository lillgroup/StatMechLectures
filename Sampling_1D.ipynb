{
  "cells": [
    {
      "cell_type": "markdown",
      "metadata": {
        "id": "view-in-github",
        "colab_type": "text"
      },
      "source": [
        "<a href=\"https://colab.research.google.com/github/lillgroup/StatMechLectures/blob/main/Sampling_1D.ipynb\" target=\"_parent\"><img src=\"https://colab.research.google.com/assets/colab-badge.svg\" alt=\"Open In Colab\"/></a>"
      ]
    },
    {
      "cell_type": "markdown",
      "metadata": {
        "id": "Hf1Ugn1UjkkA"
      },
      "source": [
        "# Sampling in 1D energy landscape\n",
        "In this notebook we will define a simple 1D potential energy surface using $V(x)=cos(x)$ over the range $[-4\\pi, 4\\pi]$. The notebook contains the following steps:\n",
        "1. Numerical calculation of average energy, entropy and free energy to define the ground truth.\n",
        "2. Langevin dynamics starting from one local minimum\n",
        "3. Calculation of density from MD frames as well as therodynamic quantities (average energy, entropy, free energy)\n",
        "4. Convergence study for thermodynamic quantities"
      ]
    },
    {
      "cell_type": "code",
      "source": [
        "# Install conda\n",
        "!pip install -q condacolab\n",
        "import condacolab\n",
        "condacolab.install()"
      ],
      "metadata": {
        "id": "LhPZlUy0jnec",
        "outputId": "89c51ef5-8965-4c66-bb4d-193620e6a7d8",
        "colab": {
          "base_uri": "https://localhost:8080/"
        }
      },
      "execution_count": 18,
      "outputs": [
        {
          "output_type": "stream",
          "name": "stdout",
          "text": [
            "✨🍰✨ Everything looks OK!\n"
          ]
        }
      ]
    },
    {
      "cell_type": "code",
      "source": [
        "# Check conda installation\n",
        "import condacolab\n",
        "condacolab.check()\n",
        "\n",
        "# Install required packages\n",
        "!mamba install python=3.10 pip\n",
        "!pip3 install ensembler-rinikerlab\n",
        "!pip3 install numpy scipy matplotlib"
      ],
      "metadata": {
        "id": "JQOYsvDgjxTR",
        "outputId": "d563ee2d-c2ff-48e5-ac78-dbe0992e6fc3",
        "colab": {
          "base_uri": "https://localhost:8080/"
        }
      },
      "execution_count": 19,
      "outputs": [
        {
          "output_type": "stream",
          "name": "stdout",
          "text": [
            "✨🍰✨ Everything looks OK!\n",
            "\n",
            "Looking for: ['python=3.10', 'pip']\n",
            "\n",
            "conda-forge/linux-64                                        Using cache\n",
            "conda-forge/noarch                                          Using cache\n",
            "\n",
            "Pinned packages:\n",
            "  - python 3.11.*\n",
            "  - python_abi 3.11.* *cp311*\n",
            "  - cuda-version 12.*\n",
            "\n",
            "\n",
            "\u001b[33m\u001b[1mwarning  libmamba\u001b[m Added empty dependency for problem type SOLVER_RULE_UPDATE\n",
            "Could not solve for environment specs\n",
            "The following package could not be installed\n",
            "└─ \u001b[32mpython 3.10** \u001b[0m is requested and can be installed.\n",
            "Requirement already satisfied: ensembler-rinikerlab in /usr/local/lib/python3.11/site-packages (1.0.4)\n",
            "Requirement already satisfied: typing in /usr/local/lib/python3.11/site-packages (from ensembler-rinikerlab) (3.7.4.3)\n",
            "Requirement already satisfied: pytest in /usr/local/lib/python3.11/site-packages (from ensembler-rinikerlab) (8.3.5)\n",
            "Requirement already satisfied: pandas in /usr/local/lib/python3.11/site-packages (from ensembler-rinikerlab) (2.2.3)\n",
            "Requirement already satisfied: numpy in /usr/local/lib/python3.11/site-packages (from ensembler-rinikerlab) (2.2.4)\n",
            "Requirement already satisfied: sympy in /usr/local/lib/python3.11/site-packages (from ensembler-rinikerlab) (1.13.3)\n",
            "Requirement already satisfied: scipy in /usr/local/lib/python3.11/site-packages (from ensembler-rinikerlab) (1.15.2)\n",
            "Requirement already satisfied: matplotlib in /usr/local/lib/python3.11/site-packages (from ensembler-rinikerlab) (3.10.1)\n",
            "Requirement already satisfied: jupyter in /usr/local/lib/python3.11/site-packages (from ensembler-rinikerlab) (1.1.1)\n",
            "Requirement already satisfied: ipywidgets in /usr/local/lib/python3.11/site-packages (from ensembler-rinikerlab) (8.1.5)\n",
            "Requirement already satisfied: tqdm in /usr/local/lib/python3.11/site-packages (from ensembler-rinikerlab) (4.67.1)\n",
            "Requirement already satisfied: ffmpeg in /usr/local/lib/python3.11/site-packages (from ensembler-rinikerlab) (1.4)\n",
            "Requirement already satisfied: comm>=0.1.3 in /usr/local/lib/python3.11/site-packages (from ipywidgets->ensembler-rinikerlab) (0.2.2)\n",
            "Requirement already satisfied: ipython>=6.1.0 in /usr/local/lib/python3.11/site-packages (from ipywidgets->ensembler-rinikerlab) (9.0.2)\n",
            "Requirement already satisfied: traitlets>=4.3.1 in /usr/local/lib/python3.11/site-packages (from ipywidgets->ensembler-rinikerlab) (5.14.3)\n",
            "Requirement already satisfied: widgetsnbextension~=4.0.12 in /usr/local/lib/python3.11/site-packages (from ipywidgets->ensembler-rinikerlab) (4.0.13)\n",
            "Requirement already satisfied: jupyterlab-widgets~=3.0.12 in /usr/local/lib/python3.11/site-packages (from ipywidgets->ensembler-rinikerlab) (3.0.13)\n",
            "Requirement already satisfied: notebook in /usr/local/lib/python3.11/site-packages (from jupyter->ensembler-rinikerlab) (7.3.3)\n",
            "Requirement already satisfied: jupyter-console in /usr/local/lib/python3.11/site-packages (from jupyter->ensembler-rinikerlab) (6.6.3)\n",
            "Requirement already satisfied: nbconvert in /usr/local/lib/python3.11/site-packages (from jupyter->ensembler-rinikerlab) (7.16.6)\n",
            "Requirement already satisfied: ipykernel in /usr/local/lib/python3.11/site-packages (from jupyter->ensembler-rinikerlab) (6.29.5)\n",
            "Requirement already satisfied: jupyterlab in /usr/local/lib/python3.11/site-packages (from jupyter->ensembler-rinikerlab) (4.3.6)\n",
            "Requirement already satisfied: contourpy>=1.0.1 in /usr/local/lib/python3.11/site-packages (from matplotlib->ensembler-rinikerlab) (1.3.1)\n",
            "Requirement already satisfied: cycler>=0.10 in /usr/local/lib/python3.11/site-packages (from matplotlib->ensembler-rinikerlab) (0.12.1)\n",
            "Requirement already satisfied: fonttools>=4.22.0 in /usr/local/lib/python3.11/site-packages (from matplotlib->ensembler-rinikerlab) (4.56.0)\n",
            "Requirement already satisfied: kiwisolver>=1.3.1 in /usr/local/lib/python3.11/site-packages (from matplotlib->ensembler-rinikerlab) (1.4.8)\n",
            "Requirement already satisfied: packaging>=20.0 in /usr/local/lib/python3.11/site-packages (from matplotlib->ensembler-rinikerlab) (24.2)\n",
            "Requirement already satisfied: pillow>=8 in /usr/local/lib/python3.11/site-packages (from matplotlib->ensembler-rinikerlab) (11.1.0)\n",
            "Requirement already satisfied: pyparsing>=2.3.1 in /usr/local/lib/python3.11/site-packages (from matplotlib->ensembler-rinikerlab) (3.2.3)\n",
            "Requirement already satisfied: python-dateutil>=2.7 in /usr/local/lib/python3.11/site-packages (from matplotlib->ensembler-rinikerlab) (2.9.0.post0)\n",
            "Requirement already satisfied: pytz>=2020.1 in /usr/local/lib/python3.11/site-packages (from pandas->ensembler-rinikerlab) (2025.2)\n",
            "Requirement already satisfied: tzdata>=2022.7 in /usr/local/lib/python3.11/site-packages (from pandas->ensembler-rinikerlab) (2025.2)\n",
            "Requirement already satisfied: iniconfig in /usr/local/lib/python3.11/site-packages (from pytest->ensembler-rinikerlab) (2.1.0)\n",
            "Requirement already satisfied: pluggy<2,>=1.5 in /usr/local/lib/python3.11/site-packages (from pytest->ensembler-rinikerlab) (1.5.0)\n",
            "Requirement already satisfied: mpmath<1.4,>=1.1.0 in /usr/local/lib/python3.11/site-packages (from sympy->ensembler-rinikerlab) (1.3.0)\n",
            "Requirement already satisfied: decorator in /usr/local/lib/python3.11/site-packages (from ipython>=6.1.0->ipywidgets->ensembler-rinikerlab) (5.2.1)\n",
            "Requirement already satisfied: ipython-pygments-lexers in /usr/local/lib/python3.11/site-packages (from ipython>=6.1.0->ipywidgets->ensembler-rinikerlab) (1.1.1)\n",
            "Requirement already satisfied: jedi>=0.16 in /usr/local/lib/python3.11/site-packages (from ipython>=6.1.0->ipywidgets->ensembler-rinikerlab) (0.19.2)\n",
            "Requirement already satisfied: matplotlib-inline in /usr/local/lib/python3.11/site-packages (from ipython>=6.1.0->ipywidgets->ensembler-rinikerlab) (0.1.7)\n",
            "Requirement already satisfied: pexpect>4.3 in /usr/local/lib/python3.11/site-packages (from ipython>=6.1.0->ipywidgets->ensembler-rinikerlab) (4.9.0)\n",
            "Requirement already satisfied: prompt_toolkit<3.1.0,>=3.0.41 in /usr/local/lib/python3.11/site-packages (from ipython>=6.1.0->ipywidgets->ensembler-rinikerlab) (3.0.50)\n",
            "Requirement already satisfied: pygments>=2.4.0 in /usr/local/lib/python3.11/site-packages (from ipython>=6.1.0->ipywidgets->ensembler-rinikerlab) (2.19.1)\n",
            "Requirement already satisfied: stack_data in /usr/local/lib/python3.11/site-packages (from ipython>=6.1.0->ipywidgets->ensembler-rinikerlab) (0.6.3)\n",
            "Requirement already satisfied: typing_extensions>=4.6 in /usr/local/lib/python3.11/site-packages (from ipython>=6.1.0->ipywidgets->ensembler-rinikerlab) (4.13.0)\n",
            "Requirement already satisfied: six>=1.5 in /usr/local/lib/python3.11/site-packages (from python-dateutil>=2.7->matplotlib->ensembler-rinikerlab) (1.17.0)\n",
            "Requirement already satisfied: debugpy>=1.6.5 in /usr/local/lib/python3.11/site-packages (from ipykernel->jupyter->ensembler-rinikerlab) (1.8.13)\n",
            "Requirement already satisfied: jupyter-client>=6.1.12 in /usr/local/lib/python3.11/site-packages (from ipykernel->jupyter->ensembler-rinikerlab) (8.6.3)\n",
            "Requirement already satisfied: jupyter-core!=5.0.*,>=4.12 in /usr/local/lib/python3.11/site-packages (from ipykernel->jupyter->ensembler-rinikerlab) (5.7.2)\n",
            "Requirement already satisfied: nest-asyncio in /usr/local/lib/python3.11/site-packages (from ipykernel->jupyter->ensembler-rinikerlab) (1.6.0)\n",
            "Requirement already satisfied: psutil in /usr/local/lib/python3.11/site-packages (from ipykernel->jupyter->ensembler-rinikerlab) (7.0.0)\n",
            "Requirement already satisfied: pyzmq>=24 in /usr/local/lib/python3.11/site-packages (from ipykernel->jupyter->ensembler-rinikerlab) (26.3.0)\n",
            "Requirement already satisfied: tornado>=6.1 in /usr/local/lib/python3.11/site-packages (from ipykernel->jupyter->ensembler-rinikerlab) (6.4.2)\n",
            "Requirement already satisfied: async-lru>=1.0.0 in /usr/local/lib/python3.11/site-packages (from jupyterlab->jupyter->ensembler-rinikerlab) (2.0.5)\n",
            "Requirement already satisfied: httpx>=0.25.0 in /usr/local/lib/python3.11/site-packages (from jupyterlab->jupyter->ensembler-rinikerlab) (0.28.1)\n",
            "Requirement already satisfied: jinja2>=3.0.3 in /usr/local/lib/python3.11/site-packages (from jupyterlab->jupyter->ensembler-rinikerlab) (3.1.6)\n",
            "Requirement already satisfied: jupyter-lsp>=2.0.0 in /usr/local/lib/python3.11/site-packages (from jupyterlab->jupyter->ensembler-rinikerlab) (2.2.5)\n",
            "Requirement already satisfied: jupyter-server<3,>=2.4.0 in /usr/local/lib/python3.11/site-packages (from jupyterlab->jupyter->ensembler-rinikerlab) (2.15.0)\n",
            "Requirement already satisfied: jupyterlab-server<3,>=2.27.1 in /usr/local/lib/python3.11/site-packages (from jupyterlab->jupyter->ensembler-rinikerlab) (2.27.3)\n",
            "Requirement already satisfied: notebook-shim>=0.2 in /usr/local/lib/python3.11/site-packages (from jupyterlab->jupyter->ensembler-rinikerlab) (0.2.4)\n",
            "Requirement already satisfied: setuptools>=40.8.0 in /usr/local/lib/python3.11/site-packages (from jupyterlab->jupyter->ensembler-rinikerlab) (65.6.3)\n",
            "Requirement already satisfied: beautifulsoup4 in /usr/local/lib/python3.11/site-packages (from nbconvert->jupyter->ensembler-rinikerlab) (4.13.3)\n",
            "Requirement already satisfied: bleach!=5.0.0 in /usr/local/lib/python3.11/site-packages (from bleach[css]!=5.0.0->nbconvert->jupyter->ensembler-rinikerlab) (6.2.0)\n",
            "Requirement already satisfied: defusedxml in /usr/local/lib/python3.11/site-packages (from nbconvert->jupyter->ensembler-rinikerlab) (0.7.1)\n",
            "Requirement already satisfied: jupyterlab-pygments in /usr/local/lib/python3.11/site-packages (from nbconvert->jupyter->ensembler-rinikerlab) (0.3.0)\n",
            "Requirement already satisfied: markupsafe>=2.0 in /usr/local/lib/python3.11/site-packages (from nbconvert->jupyter->ensembler-rinikerlab) (3.0.2)\n",
            "Requirement already satisfied: mistune<4,>=2.0.3 in /usr/local/lib/python3.11/site-packages (from nbconvert->jupyter->ensembler-rinikerlab) (3.1.3)\n",
            "Requirement already satisfied: nbclient>=0.5.0 in /usr/local/lib/python3.11/site-packages (from nbconvert->jupyter->ensembler-rinikerlab) (0.10.2)\n",
            "Requirement already satisfied: nbformat>=5.7 in /usr/local/lib/python3.11/site-packages (from nbconvert->jupyter->ensembler-rinikerlab) (5.10.4)\n",
            "Requirement already satisfied: pandocfilters>=1.4.1 in /usr/local/lib/python3.11/site-packages (from nbconvert->jupyter->ensembler-rinikerlab) (1.5.1)\n",
            "Requirement already satisfied: webencodings in /usr/local/lib/python3.11/site-packages (from bleach!=5.0.0->bleach[css]!=5.0.0->nbconvert->jupyter->ensembler-rinikerlab) (0.5.1)\n",
            "Requirement already satisfied: tinycss2<1.5,>=1.1.0 in /usr/local/lib/python3.11/site-packages (from bleach[css]!=5.0.0->nbconvert->jupyter->ensembler-rinikerlab) (1.4.0)\n",
            "Requirement already satisfied: anyio in /usr/local/lib/python3.11/site-packages (from httpx>=0.25.0->jupyterlab->jupyter->ensembler-rinikerlab) (4.9.0)\n",
            "Requirement already satisfied: certifi in /usr/local/lib/python3.11/site-packages (from httpx>=0.25.0->jupyterlab->jupyter->ensembler-rinikerlab) (2024.12.14)\n",
            "Requirement already satisfied: httpcore==1.* in /usr/local/lib/python3.11/site-packages (from httpx>=0.25.0->jupyterlab->jupyter->ensembler-rinikerlab) (1.0.7)\n",
            "Requirement already satisfied: idna in /usr/local/lib/python3.11/site-packages (from httpx>=0.25.0->jupyterlab->jupyter->ensembler-rinikerlab) (3.10)\n",
            "Requirement already satisfied: h11<0.15,>=0.13 in /usr/local/lib/python3.11/site-packages (from httpcore==1.*->httpx>=0.25.0->jupyterlab->jupyter->ensembler-rinikerlab) (0.14.0)\n",
            "Requirement already satisfied: parso<0.9.0,>=0.8.4 in /usr/local/lib/python3.11/site-packages (from jedi>=0.16->ipython>=6.1.0->ipywidgets->ensembler-rinikerlab) (0.8.4)\n",
            "Requirement already satisfied: platformdirs>=2.5 in /usr/local/lib/python3.11/site-packages (from jupyter-core!=5.0.*,>=4.12->ipykernel->jupyter->ensembler-rinikerlab) (4.3.6)\n",
            "Requirement already satisfied: argon2-cffi>=21.1 in /usr/local/lib/python3.11/site-packages (from jupyter-server<3,>=2.4.0->jupyterlab->jupyter->ensembler-rinikerlab) (23.1.0)\n",
            "Requirement already satisfied: jupyter-events>=0.11.0 in /usr/local/lib/python3.11/site-packages (from jupyter-server<3,>=2.4.0->jupyterlab->jupyter->ensembler-rinikerlab) (0.12.0)\n",
            "Requirement already satisfied: jupyter-server-terminals>=0.4.4 in /usr/local/lib/python3.11/site-packages (from jupyter-server<3,>=2.4.0->jupyterlab->jupyter->ensembler-rinikerlab) (0.5.3)\n",
            "Requirement already satisfied: overrides>=5.0 in /usr/local/lib/python3.11/site-packages (from jupyter-server<3,>=2.4.0->jupyterlab->jupyter->ensembler-rinikerlab) (7.7.0)\n",
            "Requirement already satisfied: prometheus-client>=0.9 in /usr/local/lib/python3.11/site-packages (from jupyter-server<3,>=2.4.0->jupyterlab->jupyter->ensembler-rinikerlab) (0.21.1)\n",
            "Requirement already satisfied: send2trash>=1.8.2 in /usr/local/lib/python3.11/site-packages (from jupyter-server<3,>=2.4.0->jupyterlab->jupyter->ensembler-rinikerlab) (1.8.3)\n",
            "Requirement already satisfied: terminado>=0.8.3 in /usr/local/lib/python3.11/site-packages (from jupyter-server<3,>=2.4.0->jupyterlab->jupyter->ensembler-rinikerlab) (0.18.1)\n",
            "Requirement already satisfied: websocket-client>=1.7 in /usr/local/lib/python3.11/site-packages (from jupyter-server<3,>=2.4.0->jupyterlab->jupyter->ensembler-rinikerlab) (1.8.0)\n",
            "Requirement already satisfied: babel>=2.10 in /usr/local/lib/python3.11/site-packages (from jupyterlab-server<3,>=2.27.1->jupyterlab->jupyter->ensembler-rinikerlab) (2.17.0)\n",
            "Requirement already satisfied: json5>=0.9.0 in /usr/local/lib/python3.11/site-packages (from jupyterlab-server<3,>=2.27.1->jupyterlab->jupyter->ensembler-rinikerlab) (0.10.0)\n",
            "Requirement already satisfied: jsonschema>=4.18.0 in /usr/local/lib/python3.11/site-packages (from jupyterlab-server<3,>=2.27.1->jupyterlab->jupyter->ensembler-rinikerlab) (4.23.0)\n",
            "Requirement already satisfied: requests>=2.31 in /usr/local/lib/python3.11/site-packages (from jupyterlab-server<3,>=2.27.1->jupyterlab->jupyter->ensembler-rinikerlab) (2.32.3)\n",
            "Requirement already satisfied: fastjsonschema>=2.15 in /usr/local/lib/python3.11/site-packages (from nbformat>=5.7->nbconvert->jupyter->ensembler-rinikerlab) (2.21.1)\n",
            "Requirement already satisfied: ptyprocess>=0.5 in /usr/local/lib/python3.11/site-packages (from pexpect>4.3->ipython>=6.1.0->ipywidgets->ensembler-rinikerlab) (0.7.0)\n",
            "Requirement already satisfied: wcwidth in /usr/local/lib/python3.11/site-packages (from prompt_toolkit<3.1.0,>=3.0.41->ipython>=6.1.0->ipywidgets->ensembler-rinikerlab) (0.2.13)\n",
            "Requirement already satisfied: soupsieve>1.2 in /usr/local/lib/python3.11/site-packages (from beautifulsoup4->nbconvert->jupyter->ensembler-rinikerlab) (2.6)\n",
            "Requirement already satisfied: executing>=1.2.0 in /usr/local/lib/python3.11/site-packages (from stack_data->ipython>=6.1.0->ipywidgets->ensembler-rinikerlab) (2.2.0)\n",
            "Requirement already satisfied: asttokens>=2.1.0 in /usr/local/lib/python3.11/site-packages (from stack_data->ipython>=6.1.0->ipywidgets->ensembler-rinikerlab) (3.0.0)\n",
            "Requirement already satisfied: pure-eval in /usr/local/lib/python3.11/site-packages (from stack_data->ipython>=6.1.0->ipywidgets->ensembler-rinikerlab) (0.2.3)\n",
            "Requirement already satisfied: sniffio>=1.1 in /usr/local/lib/python3.11/site-packages (from anyio->httpx>=0.25.0->jupyterlab->jupyter->ensembler-rinikerlab) (1.3.1)\n",
            "Requirement already satisfied: argon2-cffi-bindings in /usr/local/lib/python3.11/site-packages (from argon2-cffi>=21.1->jupyter-server<3,>=2.4.0->jupyterlab->jupyter->ensembler-rinikerlab) (21.2.0)\n",
            "Requirement already satisfied: attrs>=22.2.0 in /usr/local/lib/python3.11/site-packages (from jsonschema>=4.18.0->jupyterlab-server<3,>=2.27.1->jupyterlab->jupyter->ensembler-rinikerlab) (25.3.0)\n",
            "Requirement already satisfied: jsonschema-specifications>=2023.03.6 in /usr/local/lib/python3.11/site-packages (from jsonschema>=4.18.0->jupyterlab-server<3,>=2.27.1->jupyterlab->jupyter->ensembler-rinikerlab) (2024.10.1)\n",
            "Requirement already satisfied: referencing>=0.28.4 in /usr/local/lib/python3.11/site-packages (from jsonschema>=4.18.0->jupyterlab-server<3,>=2.27.1->jupyterlab->jupyter->ensembler-rinikerlab) (0.36.2)\n",
            "Requirement already satisfied: rpds-py>=0.7.1 in /usr/local/lib/python3.11/site-packages (from jsonschema>=4.18.0->jupyterlab-server<3,>=2.27.1->jupyterlab->jupyter->ensembler-rinikerlab) (0.24.0)\n",
            "Requirement already satisfied: python-json-logger>=2.0.4 in /usr/local/lib/python3.11/site-packages (from jupyter-events>=0.11.0->jupyter-server<3,>=2.4.0->jupyterlab->jupyter->ensembler-rinikerlab) (3.3.0)\n",
            "Requirement already satisfied: pyyaml>=5.3 in /usr/local/lib/python3.11/site-packages (from jupyter-events>=0.11.0->jupyter-server<3,>=2.4.0->jupyterlab->jupyter->ensembler-rinikerlab) (6.0.2)\n",
            "Requirement already satisfied: rfc3339-validator in /usr/local/lib/python3.11/site-packages (from jupyter-events>=0.11.0->jupyter-server<3,>=2.4.0->jupyterlab->jupyter->ensembler-rinikerlab) (0.1.4)\n",
            "Requirement already satisfied: rfc3986-validator>=0.1.1 in /usr/local/lib/python3.11/site-packages (from jupyter-events>=0.11.0->jupyter-server<3,>=2.4.0->jupyterlab->jupyter->ensembler-rinikerlab) (0.1.1)\n",
            "Requirement already satisfied: charset_normalizer<4,>=2 in /usr/local/lib/python3.11/site-packages (from requests>=2.31->jupyterlab-server<3,>=2.27.1->jupyterlab->jupyter->ensembler-rinikerlab) (3.4.1)\n",
            "Requirement already satisfied: urllib3<3,>=1.21.1 in /usr/local/lib/python3.11/site-packages (from requests>=2.31->jupyterlab-server<3,>=2.27.1->jupyterlab->jupyter->ensembler-rinikerlab) (2.3.0)\n",
            "Requirement already satisfied: fqdn in /usr/local/lib/python3.11/site-packages (from jsonschema[format-nongpl]>=4.18.0->jupyter-events>=0.11.0->jupyter-server<3,>=2.4.0->jupyterlab->jupyter->ensembler-rinikerlab) (1.5.1)\n",
            "Requirement already satisfied: isoduration in /usr/local/lib/python3.11/site-packages (from jsonschema[format-nongpl]>=4.18.0->jupyter-events>=0.11.0->jupyter-server<3,>=2.4.0->jupyterlab->jupyter->ensembler-rinikerlab) (20.11.0)\n",
            "Requirement already satisfied: jsonpointer>1.13 in /usr/local/lib/python3.11/site-packages (from jsonschema[format-nongpl]>=4.18.0->jupyter-events>=0.11.0->jupyter-server<3,>=2.4.0->jupyterlab->jupyter->ensembler-rinikerlab) (3.0.0)\n",
            "Requirement already satisfied: uri-template in /usr/local/lib/python3.11/site-packages (from jsonschema[format-nongpl]>=4.18.0->jupyter-events>=0.11.0->jupyter-server<3,>=2.4.0->jupyterlab->jupyter->ensembler-rinikerlab) (1.3.0)\n",
            "Requirement already satisfied: webcolors>=24.6.0 in /usr/local/lib/python3.11/site-packages (from jsonschema[format-nongpl]>=4.18.0->jupyter-events>=0.11.0->jupyter-server<3,>=2.4.0->jupyterlab->jupyter->ensembler-rinikerlab) (24.11.1)\n",
            "Requirement already satisfied: cffi>=1.0.1 in /usr/local/lib/python3.11/site-packages (from argon2-cffi-bindings->argon2-cffi>=21.1->jupyter-server<3,>=2.4.0->jupyterlab->jupyter->ensembler-rinikerlab) (1.17.1)\n",
            "Requirement already satisfied: pycparser in /usr/local/lib/python3.11/site-packages (from cffi>=1.0.1->argon2-cffi-bindings->argon2-cffi>=21.1->jupyter-server<3,>=2.4.0->jupyterlab->jupyter->ensembler-rinikerlab) (2.22)\n",
            "Requirement already satisfied: arrow>=0.15.0 in /usr/local/lib/python3.11/site-packages (from isoduration->jsonschema[format-nongpl]>=4.18.0->jupyter-events>=0.11.0->jupyter-server<3,>=2.4.0->jupyterlab->jupyter->ensembler-rinikerlab) (1.3.0)\n",
            "Requirement already satisfied: types-python-dateutil>=2.8.10 in /usr/local/lib/python3.11/site-packages (from arrow>=0.15.0->isoduration->jsonschema[format-nongpl]>=4.18.0->jupyter-events>=0.11.0->jupyter-server<3,>=2.4.0->jupyterlab->jupyter->ensembler-rinikerlab) (2.9.0.20241206)\n",
            "Requirement already satisfied: numpy in /usr/local/lib/python3.11/site-packages (2.2.4)\n",
            "Requirement already satisfied: scipy in /usr/local/lib/python3.11/site-packages (1.15.2)\n",
            "Requirement already satisfied: matplotlib in /usr/local/lib/python3.11/site-packages (3.10.1)\n",
            "Requirement already satisfied: contourpy>=1.0.1 in /usr/local/lib/python3.11/site-packages (from matplotlib) (1.3.1)\n",
            "Requirement already satisfied: cycler>=0.10 in /usr/local/lib/python3.11/site-packages (from matplotlib) (0.12.1)\n",
            "Requirement already satisfied: fonttools>=4.22.0 in /usr/local/lib/python3.11/site-packages (from matplotlib) (4.56.0)\n",
            "Requirement already satisfied: kiwisolver>=1.3.1 in /usr/local/lib/python3.11/site-packages (from matplotlib) (1.4.8)\n",
            "Requirement already satisfied: packaging>=20.0 in /usr/local/lib/python3.11/site-packages (from matplotlib) (24.2)\n",
            "Requirement already satisfied: pillow>=8 in /usr/local/lib/python3.11/site-packages (from matplotlib) (11.1.0)\n",
            "Requirement already satisfied: pyparsing>=2.3.1 in /usr/local/lib/python3.11/site-packages (from matplotlib) (3.2.3)\n",
            "Requirement already satisfied: python-dateutil>=2.7 in /usr/local/lib/python3.11/site-packages (from matplotlib) (2.9.0.post0)\n",
            "Requirement already satisfied: six>=1.5 in /usr/local/lib/python3.11/site-packages (from python-dateutil>=2.7->matplotlib) (1.17.0)\n"
          ]
        }
      ]
    },
    {
      "cell_type": "code",
      "execution_count": 32,
      "metadata": {
        "id": "N-kRQVATjkkD"
      },
      "outputs": [],
      "source": [
        "import ensembler\n",
        "\n",
        "import numpy as np\n",
        "from matplotlib import pyplot as plt\n",
        "\n",
        "##Ensembler\n",
        "from ensembler.potentials import OneD as potentials1D\n",
        "from ensembler.potentials import TwoD as potentials2D\n",
        "\n",
        "import ensembler.visualisation.plotPotentials as vis\n",
        "\n",
        "from ensembler.samplers.stochastic import langevinIntegrator\n",
        "from ensembler.system import system\n",
        "from ensembler.visualisation.plotSimulations import oneD_simulation_analysis_plot\n",
        "from ensembler.conditions.box_conditions import periodicBoundaryCondition\n",
        "\n",
        "import warnings\n",
        "warnings.filterwarnings('ignore')"
      ]
    },
    {
      "cell_type": "markdown",
      "metadata": {
        "id": "e7qbE5NGjkkE"
      },
      "source": [
        "### Settings for defining the potential and subsequent analysis"
      ]
    },
    {
      "cell_type": "code",
      "execution_count": 21,
      "metadata": {
        "id": "QBGEnMZqjkkE"
      },
      "outputs": [],
      "source": [
        "min_x = -4*np.pi\n",
        "max_x = 4*np.pi\n",
        "\n",
        "amplitude = 1\n",
        "\n",
        "multiplicit = 1\n",
        "\n",
        "temperature = 1.0\n",
        "\n",
        "###Plotting & energy evaluations:\n",
        "#params\n",
        "extent = (min_x,max_x)\n",
        "box_length = max_x - min_x\n",
        "\n",
        "test_timing_with_points = 1000"
      ]
    },
    {
      "cell_type": "markdown",
      "metadata": {
        "id": "-G0Em1UVjkkF"
      },
      "source": [
        "### Defintion of potential:\n",
        "1D cosine function between $-4\\pi$ and $4\\pi$"
      ]
    },
    {
      "cell_type": "code",
      "execution_count": 22,
      "metadata": {
        "id": "VGWPhZq3jkkF",
        "outputId": "b97b1926-623a-4dcd-c811-540b0474131f",
        "colab": {
          "base_uri": "https://localhost:8080/",
          "height": 268
        }
      },
      "outputs": [
        {
          "output_type": "display_data",
          "data": {
            "text/plain": [
              "<Figure size 338.583x209.256 with 1 Axes>"
            ],
            "image/png": "[encoded data removed]"
          },
          "metadata": {}
        }
      ],
      "source": [
        "#1D\n",
        "positions = np.linspace(min_x, max_x, test_timing_with_points)\n",
        "\n",
        "V = potentials1D.wavePotential(amplitude=amplitude, radians=True, multiplicity=multiplicit, y_shift=0.0)\n",
        "#print(V)\n",
        "\n",
        "fig, axes = vis.plot_1DPotential_V(V, positions=positions)"
      ]
    },
    {
      "cell_type": "markdown",
      "metadata": {
        "id": "ULa_PrPLjkkG"
      },
      "source": [
        "### Function to compute potential energy in 1D for discrete points in defined interval"
      ]
    },
    {
      "cell_type": "code",
      "execution_count": 23,
      "metadata": {
        "id": "DRi1nC-yjkkG"
      },
      "outputs": [],
      "source": [
        "def sample_energy_1D(energy, extent=extent, resolution=test_timing_with_points, dim=1):\n",
        "    xs = np.linspace(*extent, resolution)\n",
        "    us = energy.ene(xs)\n",
        "\n",
        "    return us"
      ]
    },
    {
      "cell_type": "markdown",
      "metadata": {
        "id": "0a7zsIY5jkkG"
      },
      "source": [
        "### Function to compute thermodynamic quantities by numerical integration over discrete points in defined interval"
      ]
    },
    {
      "cell_type": "code",
      "execution_count": 24,
      "metadata": {
        "id": "Yb4Iri95jkkH"
      },
      "outputs": [],
      "source": [
        "def compute_stats(energy, slice_width, dim=2):\n",
        "    dx = np.power([slice_width], dim)\n",
        "\n",
        "    boltz = np.exp(-energy/temperature)\n",
        "\n",
        "    Z = np.sum(boltz)*dx\n",
        "    prob = boltz/Z\n",
        "\n",
        "    av_en = np.sum(prob*energy)*dx\n",
        "    #print(prob.max())\n",
        "    prob_pos = prob[np.where(prob>0.0001*dx)]\n",
        "    #print(prob_pos)\n",
        "    TS = -temperature*np.sum(prob_pos*np.log(prob_pos))*dx\n",
        "    fe = -temperature*np.log(Z)\n",
        "\n",
        "    print(\"Average energy : %.3f\" % av_en)\n",
        "    print(\"Entropy        : %.3f\" % TS)\n",
        "    print(\"Free energy    : %.3f\" % fe)\n",
        "\n",
        "    return prob, fe, av_en, TS"
      ]
    },
    {
      "cell_type": "markdown",
      "metadata": {
        "id": "AXP5UxzijkkI"
      },
      "source": [
        "### Compute thermodynamic values for potential\n",
        "We will now compute the potential energy $V(x)$ over discrete points and then compute the thermodynamic quantities using statistical mechanics:\n",
        "* Average energy: $<E>=\\sum_x p(x) V(x) dx$\n",
        "* Free energy   : $F = -k_B T ln(Z)$ with $Z=\\sum_x exp(-V(x)/k_B T) dx$\n",
        "* Entropy       : $TS = -k_B T \\sum_x p(x) ln(p(x)) dx$"
      ]
    },
    {
      "cell_type": "code",
      "execution_count": 25,
      "metadata": {
        "id": "3Q2A7PhOjkkI",
        "outputId": "999170d0-a7f2-4507-cdd4-c64f10c1fe6e",
        "colab": {
          "base_uri": "https://localhost:8080/"
        }
      },
      "outputs": [
        {
          "output_type": "stream",
          "name": "stdout",
          "text": [
            "Average energy : -0.446\n",
            "Entropy        : 3.013\n",
            "Free energy    : -3.459\n"
          ]
        },
        {
          "output_type": "stream",
          "name": "stderr",
          "text": [
            "<ipython-input-24-9caa3ee3c7a7>:16: DeprecationWarning: Conversion of an array with ndim > 0 to a scalar is deprecated, and will error in future. Ensure you extract a single element from your array before performing this operation. (Deprecated NumPy 1.25.)\n",
            "  print(\"Average energy : %.3f\" % av_en)\n",
            "<ipython-input-24-9caa3ee3c7a7>:17: DeprecationWarning: Conversion of an array with ndim > 0 to a scalar is deprecated, and will error in future. Ensure you extract a single element from your array before performing this operation. (Deprecated NumPy 1.25.)\n",
            "  print(\"Entropy        : %.3f\" % TS)\n",
            "<ipython-input-24-9caa3ee3c7a7>:18: DeprecationWarning: Conversion of an array with ndim > 0 to a scalar is deprecated, and will error in future. Ensure you extract a single element from your array before performing this operation. (Deprecated NumPy 1.25.)\n",
            "  print(\"Free energy    : %.3f\" % fe)\n"
          ]
        }
      ],
      "source": [
        "en1 = sample_energy_1D(V, dim=1)\n",
        "slice_width = (box_length/test_timing_with_points)\n",
        "prob, fe, av_en, ts = compute_stats(en1, slice_width=slice_width, dim=1)"
      ]
    },
    {
      "cell_type": "markdown",
      "metadata": {
        "id": "DryFSu4ejkkI"
      },
      "source": [
        "***"
      ]
    },
    {
      "cell_type": "markdown",
      "metadata": {
        "id": "0BL3AumgjkkI"
      },
      "source": [
        "### Run simulation using Langevin integrator and periodic boundary conditions"
      ]
    },
    {
      "cell_type": "code",
      "execution_count": 26,
      "metadata": {
        "id": "rCxcnVjMjkkI",
        "outputId": "0f31e5b3-741a-42fc-81ed-05a092233628",
        "colab": {
          "base_uri": "https://localhost:8080/",
          "height": 338
        }
      },
      "outputs": [
        {
          "output_type": "stream",
          "name": "stderr",
          "text": [
            "\rSimulation:  Simulation:   0%|          | 0/100000 [00:00<?, ?it/s]"
          ]
        },
        {
          "output_type": "stream",
          "name": "stdout",
          "text": [
            "initializing Langevin old Positions\t \n",
            "\n",
            "\n"
          ]
        },
        {
          "output_type": "stream",
          "name": "stderr",
          "text": [
            "Simulation:  Simulation: 100%|██████████| 100000/100000 [00:17<00:00, 5741.30it/s]\n"
          ]
        },
        {
          "output_type": "execute_result",
          "data": {
            "text/plain": [
              "(<Figure size 837.022x209.256 with 3 Axes>, None)"
            ]
          },
          "metadata": {},
          "execution_count": 26
        },
        {
          "output_type": "display_data",
          "data": {
            "text/plain": [
              "<Figure size 837.022x209.256 with 3 Axes>"
            ],
            "image/png": "[encoded data removed]"
          },
          "metadata": {}
        }
      ],
      "source": [
        "sampler = langevinIntegrator(dt=0.1, gamma=10)\n",
        "periodic_cond = periodicBoundaryCondition(boundary=[min_x, max_x])\n",
        "sys = system(potential=V, sampler=sampler, start_position=np.pi, temperature=1, conditions=[periodic_cond])\n",
        "\n",
        "##Simulate\n",
        "sys.simulate(steps=100000)\n",
        "\n",
        "##Visualize\n",
        "positions = np.linspace(start=min_x, stop=max_x, num=1000) #phase space to be visualized\n",
        "oneD_simulation_analysis_plot(system=sys, title=\"Langevin Simulation\", limits_coordinate_space=positions)"
      ]
    },
    {
      "cell_type": "markdown",
      "metadata": {
        "id": "x86qK2F1jkkJ"
      },
      "source": [
        "<div class=\"alert alert-warning\">Please discuss the distribution of samples as function of r (=x) in the middle plot.<br>Please repeat the simulation a few times.</div>"
      ]
    },
    {
      "cell_type": "markdown",
      "metadata": {
        "id": "g6iolJdCjkkJ"
      },
      "source": [
        "***"
      ]
    },
    {
      "cell_type": "markdown",
      "metadata": {
        "id": "dlwK5qF2jkkJ"
      },
      "source": [
        "### Function to transform MD samples into probability density"
      ]
    },
    {
      "cell_type": "code",
      "execution_count": 27,
      "metadata": {
        "id": "23Q56JSFjkkJ"
      },
      "outputs": [],
      "source": [
        "def samples2density(xs, extent=extent, resolution=test_timing_with_points, slice_width=slice_width, dim=2):\n",
        "    dx = np.power([slice_width], dim)\n",
        "\n",
        "    min_x = extent[0]\n",
        "    max_x = extent[1]\n",
        "\n",
        "    # histogram: accumulate densities\n",
        "    num_samples = xs.shape[0]\n",
        "    #print(num_samples, xs.shape)\n",
        "    if dim == 1:\n",
        "        prob = np.zeros([resolution])\n",
        "    elif dim == 2:\n",
        "        prob = np.zeros(resolution, resolution)\n",
        "    else:\n",
        "        print(\"Analysis right now only for 1 or 2 dimensions\")\n",
        "    #print(xs[:20])\n",
        "    if dim == 1:\n",
        "        bins = resolution\n",
        "        ranges = (min_x, max_x)\n",
        "        #print(bins, ranges)\n",
        "        prob, _ = np.histogram(xs, bins=bins, range=ranges, density=False)\n",
        "    elif dim == 2:\n",
        "        bins = [resolution, resolution]\n",
        "        ranges = [min_x, max_x, min_x, max_x]\n",
        "        #print(bins, ranges)\n",
        "        prob, _ = np.histogramdd(xs, bins=bins, range=ranges, density=False)\n",
        "\n",
        "    prob = prob/num_samples\n",
        "    prob = prob/dx\n",
        "    #print(torch.sum(prob))\n",
        "\n",
        "    return prob"
      ]
    },
    {
      "cell_type": "markdown",
      "metadata": {
        "id": "o-fafDkDjkkJ"
      },
      "source": [
        "### Function to compute thermodynamic properties based on computed density"
      ]
    },
    {
      "cell_type": "code",
      "execution_count": 28,
      "metadata": {
        "id": "cNIT_cRKjkkJ"
      },
      "outputs": [],
      "source": [
        "def compute_stats_samples(energy, prob, slice_width=slice_width, dim=2):\n",
        "    dx = np.power([slice_width], dim)\n",
        "\n",
        "    av_en = np.mean(energy)\n",
        "\n",
        "    prob_pos = prob[np.where(prob>0.0000001)]\n",
        "\n",
        "    TS = -temperature*np.sum(prob_pos*np.log(prob_pos))*dx\n",
        "    fe = av_en - TS\n",
        "\n",
        "\n",
        "    return fe, av_en, TS"
      ]
    },
    {
      "cell_type": "markdown",
      "metadata": {
        "id": "c69YMmuvjkkK"
      },
      "source": [
        "### Compute thermodynamic properties\n",
        "First we convert the samples into probability density $p(x)$ with same bin width used for direct numerical integration over $x$ to obtain the thermodnamic properties.<br>\n",
        "Next we compute average energy over all samples and entropy from $p(x)$.<br>\n",
        "Finally the free energy is computed using $F = <E> - TS$."
      ]
    },
    {
      "cell_type": "code",
      "execution_count": 29,
      "metadata": {
        "id": "fkrNaXJ5jkkK",
        "outputId": "989b9d0e-9dc1-4a56-a6c7-c311806d9a05",
        "colab": {
          "base_uri": "https://localhost:8080/"
        }
      },
      "outputs": [
        {
          "output_type": "stream",
          "name": "stdout",
          "text": [
            "Average energy :   -0.416 (  -0.446)\n",
            "Entropy        :    2.898 (   3.013)\n",
            "Free energy    :   -3.314 (  -3.459)\n"
          ]
        },
        {
          "output_type": "stream",
          "name": "stderr",
          "text": [
            "<ipython-input-29-668c78c80f8f>:5: DeprecationWarning: Conversion of an array with ndim > 0 to a scalar is deprecated, and will error in future. Ensure you extract a single element from your array before performing this operation. (Deprecated NumPy 1.25.)\n",
            "  print(\"Average energy : % 8.3f (% 8.3f)\" % (av_en_md, av_en))\n",
            "<ipython-input-29-668c78c80f8f>:6: DeprecationWarning: Conversion of an array with ndim > 0 to a scalar is deprecated, and will error in future. Ensure you extract a single element from your array before performing this operation. (Deprecated NumPy 1.25.)\n",
            "  print(\"Entropy        : % 8.3f (% 8.3f)\" % (ts_md, ts))\n",
            "<ipython-input-29-668c78c80f8f>:7: DeprecationWarning: Conversion of an array with ndim > 0 to a scalar is deprecated, and will error in future. Ensure you extract a single element from your array before performing this operation. (Deprecated NumPy 1.25.)\n",
            "  print(\"Free energy    : % 8.3f (% 8.3f)\" % (fe_md, fe))\n"
          ]
        }
      ],
      "source": [
        "prob_md = samples2density(sys.trajectory.position, resolution=test_timing_with_points, dim=1)\n",
        "fe_md, av_en_md, ts_md = compute_stats_samples(sys.trajectory.total_potential_energy, prob_md, dim=1)\n",
        "\n",
        "\n",
        "print(\"Average energy : % 8.3f (% 8.3f)\" % (av_en_md, av_en))\n",
        "print(\"Entropy        : % 8.3f (% 8.3f)\" % (ts_md, ts))\n",
        "print(\"Free energy    : % 8.3f (% 8.3f)\" % (fe_md, fe))\n",
        "\n",
        "#print(sys.trajectory.position)\n",
        "#print(sys.trajectory.total_potential_energy)"
      ]
    },
    {
      "cell_type": "markdown",
      "metadata": {
        "id": "DVzl_InsjkkK"
      },
      "source": [
        "<div class=\"alert alert-warning\">Dependent on the random seed of your simulation you may see good and not so good agreement with the ground truth.<br>Please discuss the following points:<br>\n",
        "* In most cases the entropy from MD is smaller than the ground truth. Why is this the case?<br>\n",
        "* Why do we not use numerical integration in the high dimensional case if it provides the correct solution?<br>\n",
        "</div>"
      ]
    },
    {
      "cell_type": "markdown",
      "metadata": {
        "id": "NCUs7675jkkK"
      },
      "source": [
        "***"
      ]
    },
    {
      "cell_type": "markdown",
      "metadata": {
        "id": "f3OHxrEZjkkK"
      },
      "source": [
        "### Convergence\n",
        "Finally we will do convergence analysis on all thermodynamic properties by dividing the MD trajectory into 100 consecutive blocks of frames $[1, 2, 3, ..., 100]$ and compute the quantities for blocks $i\\in [1]$, $i\\in [1,2]$, $i\\in [1,2,3]$, ..., $i\\in [1,2,3,...,100]$.\n",
        "![Procedure of convergence analysis](https://github.com/lillgroup/StatMechLectures/blob/main/ConvergenceAnalysis.PNG?raw=1)"
      ]
    },
    {
      "cell_type": "code",
      "execution_count": 30,
      "metadata": {
        "id": "g-o026KejkkK",
        "outputId": "befb1093-292c-4501-eb29-455372baea60",
        "colab": {
          "base_uri": "https://localhost:8080/"
        }
      },
      "outputs": [
        {
          "output_type": "stream",
          "name": "stdout",
          "text": [
            "100001 1000\n"
          ]
        },
        {
          "output_type": "stream",
          "name": "stderr",
          "text": [
            "<ipython-input-30-f59b5af9775d>:15: DeprecationWarning: Conversion of an array with ndim > 0 to a scalar is deprecated, and will error in future. Ensure you extract a single element from your array before performing this operation. (Deprecated NumPy 1.25.)\n",
            "  fe_array[i] = fe_md\n",
            "<ipython-input-30-f59b5af9775d>:17: DeprecationWarning: Conversion of an array with ndim > 0 to a scalar is deprecated, and will error in future. Ensure you extract a single element from your array before performing this operation. (Deprecated NumPy 1.25.)\n",
            "  ts_array[i] = ts_md\n"
          ]
        }
      ],
      "source": [
        "num_frames = sys.trajectory.total_potential_energy.shape[0]\n",
        "num_steps_analysis = 100\n",
        "num_frames_per_analysis = int(num_frames/num_steps_analysis)\n",
        "print(num_frames, num_frames_per_analysis)\n",
        "\n",
        "av_en_array = np.zeros(num_steps_analysis)\n",
        "fe_array = np.zeros(num_steps_analysis)\n",
        "ts_array = np.zeros(num_steps_analysis)\n",
        "\n",
        "for i in range(num_steps_analysis):\n",
        "    pot = sys.trajectory.total_potential_energy[:(i+1)*num_frames_per_analysis]\n",
        "    pos = sys.trajectory.position[:(i+1)*num_frames_per_analysis]\n",
        "    pro = samples2density(pos, resolution=test_timing_with_points, dim=1)\n",
        "    fe_md, av_en_md, ts_md = compute_stats_samples(pot, pro, dim=1)\n",
        "    fe_array[i] = fe_md\n",
        "    av_en_array[i] = av_en_md\n",
        "    ts_array[i] = ts_md"
      ]
    },
    {
      "cell_type": "code",
      "execution_count": 31,
      "metadata": {
        "id": "voS9grRYjkkK",
        "outputId": "557e2a92-a8c0-44bf-dedf-19f20f7517a2",
        "colab": {
          "base_uri": "https://localhost:8080/",
          "height": 245
        }
      },
      "outputs": [
        {
          "output_type": "display_data",
          "data": {
            "text/plain": [
              "<Figure size 338.583x209.256 with 1 Axes>"
            ],
            "image/png": "[encoded data removed]"
          },
          "metadata": {}
        }
      ],
      "source": [
        "x = np.arange(0, num_steps_analysis, 1)\n",
        "\n",
        "plt.plot(x, fe_array, label='fe', color='blue')\n",
        "plt.plot(x, av_en_array, label='av_en', color='green')\n",
        "plt.plot(x, ts_array, label='ts', color='red')\n",
        "\n",
        "# Add labels and legend\n",
        "plt.xlabel('Number analysis blocks')\n",
        "plt.ylabel('Energies')\n",
        "plt.legend()\n",
        "plt.grid(True)\n",
        "\n",
        "# Show plot\n",
        "plt.show()"
      ]
    },
    {
      "cell_type": "markdown",
      "metadata": {
        "id": "KMXv9CMLjkkK"
      },
      "source": [
        "<div class=\"alert alert-warning\">Please compare the converence behavior of average energy, entropy and free energy.\n",
        "</div>"
      ]
    },
    {
      "cell_type": "code",
      "execution_count": 31,
      "metadata": {
        "id": "cd5R9GfZjkkL"
      },
      "outputs": [],
      "source": []
    }
  ],
  "metadata": {
    "kernelspec": {
      "display_name": "Python 3 (ipykernel)",
      "language": "python",
      "name": "python3"
    },
    "language_info": {
      "codemirror_mode": {
        "name": "ipython",
        "version": 3
      },
      "file_extension": ".py",
      "mimetype": "text/x-python",
      "name": "python",
      "nbconvert_exporter": "python",
      "pygments_lexer": "ipython3",
      "version": "3.10.4"
    },
    "vscode": {
      "interpreter": {
        "hash": "6254444b7b6ee3a8897880da3b410e98ee6e5517619a9df13f421ac27d2c785f"
      }
    },
    "colab": {
      "provenance": [],
      "include_colab_link": true
    }
  },
  "nbformat": 4,
  "nbformat_minor": 0
}